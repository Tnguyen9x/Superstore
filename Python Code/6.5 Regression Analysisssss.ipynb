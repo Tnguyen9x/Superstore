{
 "cells": [
  {
   "cell_type": "code",
   "execution_count": 1,
   "id": "464fb81c",
   "metadata": {},
   "outputs": [],
   "source": [
    "import pandas as pd\n",
    "import numpy as np\n",
    "import seaborn as sns\n",
    "import matplotlib\n",
    "import matplotlib.pyplot as plt\n",
    "import os\n",
    "import sklearn\n",
    "from sklearn.model_selection import train_test_split \n",
    "from sklearn.linear_model import LinearRegression\n",
    "from sklearn.metrics import mean_squared_error, r2_score"
   ]
  },
  {
   "cell_type": "code",
   "execution_count": 2,
   "id": "97ba67d4",
   "metadata": {},
   "outputs": [],
   "source": [
    "df = pd.read_csv(\"/Users/tony/Desktop/Career Foundry/Achievement 6/Superstore_cleaned.csv\", encoding='latin1')"
   ]
  },
  {
   "cell_type": "code",
   "execution_count": 7,
   "id": "663210ca",
   "metadata": {},
   "outputs": [
    {
     "data": {
      "image/png": "[encoded data removed]",
      "text/plain": [
       "<Figure size 640x480 with 1 Axes>"
      ]
     },
     "metadata": {},
     "output_type": "display_data"
    }
   ],
   "source": [
    "# Create a scatterplot for Sales vs. Profit\n",
    "df.plot(x='Sales', y='Profit', style='o', legend=None)\n",
    "plt.title('Sales vs Profit')\n",
    "plt.xlabel('Sales')\n",
    "plt.ylabel('Profit')\n",
    "plt.show()"
   ]
  },
  {
   "cell_type": "markdown",
   "id": "2bc84637",
   "metadata": {},
   "source": [
    "### Hypothesis\n",
    "There is a positive correlation between Sales and Profit, meaning that as Sales increase, Profit tends to increase as well.\n"
   ]
  },
  {
   "cell_type": "markdown",
   "id": "9ecdb8cf",
   "metadata": {},
   "source": [
    "## Data Prep for Regression Analysis"
   ]
  },
  {
   "cell_type": "code",
   "execution_count": 12,
   "id": "c1a884ee",
   "metadata": {},
   "outputs": [],
   "source": [
    "# Reshape the variables into NumPy arrays\n",
    "X = df['Sales'].values.reshape(-1, 1)  # Independent variable (Sales)\n",
    "y = df['Profit'].values.reshape(-1, 1) # Dependent variable (Profit)"
   ]
  },
  {
   "cell_type": "code",
   "execution_count": 15,
   "id": "daaf7030",
   "metadata": {},
   "outputs": [
    {
     "data": {
      "text/plain": [
       "array([[261.96 ],\n",
       "       [731.94 ],\n",
       "       [ 14.62 ],\n",
       "       ...,\n",
       "       [258.576],\n",
       "       [ 29.6  ],\n",
       "       [243.16 ]])"
      ]
     },
     "execution_count": 15,
     "metadata": {},
     "output_type": "execute_result"
    }
   ],
   "source": [
    "x"
   ]
  },
  {
   "cell_type": "code",
   "execution_count": 16,
   "id": "0109901a",
   "metadata": {},
   "outputs": [
    {
     "data": {
      "text/plain": [
       "array([[ 41.9136],\n",
       "       [219.582 ],\n",
       "       [  6.8714],\n",
       "       ...,\n",
       "       [ 19.3932],\n",
       "       [ 13.32  ],\n",
       "       [ 72.948 ]])"
      ]
     },
     "execution_count": 16,
     "metadata": {},
     "output_type": "execute_result"
    }
   ],
   "source": [
    "y"
   ]
  },
  {
   "cell_type": "code",
   "execution_count": 17,
   "id": "af23c170",
   "metadata": {},
   "outputs": [
    {
     "name": "stdout",
     "output_type": "stream",
     "text": [
      "X_train shape: (6995, 1)\n",
      "X_test shape: (2999, 1)\n",
      "y_train shape: (6995, 1)\n",
      "y_test shape: (2999, 1)\n"
     ]
    }
   ],
   "source": [
    "# Split the data into a training set and a test set\n",
    "X_train, X_test, y_train, y_test = train_test_split(X, y, test_size=0.3, random_state=0)\n",
    "\n",
    "# Display the shapes of the resulting datasets to verify the split\n",
    "print(\"X_train shape:\", X_train.shape)\n",
    "print(\"X_test shape:\", X_test.shape)\n",
    "print(\"y_train shape:\", y_train.shape)\n",
    "print(\"y_test shape:\", y_test.shape)"
   ]
  },
  {
   "cell_type": "markdown",
   "id": "83ef424e",
   "metadata": {},
   "source": [
    "## Regression Analysis"
   ]
  },
  {
   "cell_type": "code",
   "execution_count": 19,
   "id": "9359efd1",
   "metadata": {},
   "outputs": [
    {
     "data": {
      "text/html": [
       "<style>#sk-container-id-2 {color: black;}#sk-container-id-2 pre{padding: 0;}#sk-container-id-2 div.sk-toggleable {background-color: white;}#sk-container-id-2 label.sk-toggleable__label {cursor: pointer;display: block;width: 100%;margin-bottom: 0;padding: 0.3em;box-sizing: border-box;text-align: center;}#sk-container-id-2 label.sk-toggleable__label-arrow:before {content: \"▸\";float: left;margin-right: 0.25em;color: #696969;}#sk-container-id-2 label.sk-toggleable__label-arrow:hover:before {color: black;}#sk-container-id-2 div.sk-estimator:hover label.sk-toggleable__label-arrow:before {color: black;}#sk-container-id-2 div.sk-toggleable__content {max-height: 0;max-width: 0;overflow: hidden;text-align: left;background-color: #f0f8ff;}#sk-container-id-2 div.sk-toggleable__content pre {margin: 0.2em;color: black;border-radius: 0.25em;background-color: #f0f8ff;}#sk-container-id-2 input.sk-toggleable__control:checked~div.sk-toggleable__content {max-height: 200px;max-width: 100%;overflow: auto;}#sk-container-id-2 input.sk-toggleable__control:checked~label.sk-toggleable__label-arrow:before {content: \"▾\";}#sk-container-id-2 div.sk-estimator input.sk-toggleable__control:checked~label.sk-toggleable__label {background-color: #d4ebff;}#sk-container-id-2 div.sk-label input.sk-toggleable__control:checked~label.sk-toggleable__label {background-color: #d4ebff;}#sk-container-id-2 input.sk-hidden--visually {border: 0;clip: rect(1px 1px 1px 1px);clip: rect(1px, 1px, 1px, 1px);height: 1px;margin: -1px;overflow: hidden;padding: 0;position: absolute;width: 1px;}#sk-container-id-2 div.sk-estimator {font-family: monospace;background-color: #f0f8ff;border: 1px dotted black;border-radius: 0.25em;box-sizing: border-box;margin-bottom: 0.5em;}#sk-container-id-2 div.sk-estimator:hover {background-color: #d4ebff;}#sk-container-id-2 div.sk-parallel-item::after {content: \"\";width: 100%;border-bottom: 1px solid gray;flex-grow: 1;}#sk-container-id-2 div.sk-label:hover label.sk-toggleable__label {background-color: #d4ebff;}#sk-container-id-2 div.sk-serial::before {content: \"\";position: absolute;border-left: 1px solid gray;box-sizing: border-box;top: 0;bottom: 0;left: 50%;z-index: 0;}#sk-container-id-2 div.sk-serial {display: flex;flex-direction: column;align-items: center;background-color: white;padding-right: 0.2em;padding-left: 0.2em;position: relative;}#sk-container-id-2 div.sk-item {position: relative;z-index: 1;}#sk-container-id-2 div.sk-parallel {display: flex;align-items: stretch;justify-content: center;background-color: white;position: relative;}#sk-container-id-2 div.sk-item::before, #sk-container-id-2 div.sk-parallel-item::before {content: \"\";position: absolute;border-left: 1px solid gray;box-sizing: border-box;top: 0;bottom: 0;left: 50%;z-index: -1;}#sk-container-id-2 div.sk-parallel-item {display: flex;flex-direction: column;z-index: 1;position: relative;background-color: white;}#sk-container-id-2 div.sk-parallel-item:first-child::after {align-self: flex-end;width: 50%;}#sk-container-id-2 div.sk-parallel-item:last-child::after {align-self: flex-start;width: 50%;}#sk-container-id-2 div.sk-parallel-item:only-child::after {width: 0;}#sk-container-id-2 div.sk-dashed-wrapped {border: 1px dashed gray;margin: 0 0.4em 0.5em 0.4em;box-sizing: border-box;padding-bottom: 0.4em;background-color: white;}#sk-container-id-2 div.sk-label label {font-family: monospace;font-weight: bold;display: inline-block;line-height: 1.2em;}#sk-container-id-2 div.sk-label-container {text-align: center;}#sk-container-id-2 div.sk-container {/* jupyter's `normalize.less` sets `[hidden] { display: none; }` but bootstrap.min.css set `[hidden] { display: none !important; }` so we also need the `!important` here to be able to override the default hidden behavior on the sphinx rendered scikit-learn.org. See: https://github.com/scikit-learn/scikit-learn/issues/21755 */display: inline-block !important;position: relative;}#sk-container-id-2 div.sk-text-repr-fallback {display: none;}</style><div id=\"sk-container-id-2\" class=\"sk-top-container\"><div class=\"sk-text-repr-fallback\"><pre>LinearRegression()</pre><b>In a Jupyter environment, please rerun this cell to show the HTML representation or trust the notebook. <br />On GitHub, the HTML representation is unable to render, please try loading this page with nbviewer.org.</b></div><div class=\"sk-container\" hidden><div class=\"sk-item\"><div class=\"sk-estimator sk-toggleable\"><input class=\"sk-toggleable__control sk-hidden--visually\" id=\"sk-estimator-id-2\" type=\"checkbox\" checked><label for=\"sk-estimator-id-2\" class=\"sk-toggleable__label sk-toggleable__label-arrow\">LinearRegression</label><div class=\"sk-toggleable__content\"><pre>LinearRegression()</pre></div></div></div></div></div>"
      ],
      "text/plain": [
       "LinearRegression()"
      ]
     },
     "execution_count": 19,
     "metadata": {},
     "output_type": "execute_result"
    }
   ],
   "source": [
    "# Create the linear regression model\n",
    "regression = LinearRegression()\n",
    "\n",
    "# Fit the model to the training data\n",
    "regression.fit(X_train, y_train)"
   ]
  },
  {
   "cell_type": "code",
   "execution_count": 20,
   "id": "2d110e47",
   "metadata": {},
   "outputs": [
    {
     "name": "stdout",
     "output_type": "stream",
     "text": [
      "Predicted values for y: [[-1.75662971]\n",
      " [-1.85432563]\n",
      " [-0.1030566 ]\n",
      " [34.60858053]\n",
      " [-2.25013364]]\n"
     ]
    }
   ],
   "source": [
    "# Predict the values of y using the test set\n",
    "y_predicted = regression.predict(X_test)\n",
    "\n",
    "# Display the first few predicted values\n",
    "print(\"Predicted values for y:\", y_predicted[:5])\n"
   ]
  },
  {
   "cell_type": "code",
   "execution_count": 32,
   "id": "e1beafa7",
   "metadata": {},
   "outputs": [
    {
     "data": {
      "image/png": "[encoded data removed]",
      "text/plain": [
       "<Figure size 640x480 with 1 Axes>"
      ]
     },
     "metadata": {},
     "output_type": "display_data"
    }
   ],
   "source": [
    "# Create a scatter plot of the test data\n",
    "plt.scatter(X_test, y_test, color='gray', s=15, label='Actual')\n",
    "\n",
    "# Plot the regression line based on the predictions\n",
    "plt.plot(X_test, y_predicted, color='red', linewidth=2, label='Regression Line')\n",
    "\n",
    "# Add titles and labels\n",
    "plt.title('Sales vs Profit (Test Set)')\n",
    "plt.xlabel('Sales')\n",
    "plt.ylabel('Profit')\n",
    "\n",
    "# Show legend\n",
    "plt.legend()\n",
    "\n",
    "# Display the plot\n",
    "plt.show()"
   ]
  },
  {
   "cell_type": "markdown",
   "id": "44bc72c4",
   "metadata": {},
   "source": [
    "The regression line on the test set provides a general trend that suggests a positive relationship between Sales and Profit; as Sales increase, Profit also tends to increase. However, the fit of the line to the data points is not very strong, as evidenced by the significant spread of the actual data points around the regression line.\n",
    "In summary, while there is a positive relationship between Sales and Profit, the scatterplot indicates that the linear regression model might not be the best fit for the data. This could imply that the relationship between Sales and Profit is more complex, potentially requiring a more sophisticated model or the inclusion of additional variables to improve the accuracy of the predictions."
   ]
  },
  {
   "cell_type": "code",
   "execution_count": 22,
   "id": "07bba583",
   "metadata": {},
   "outputs": [
    {
     "name": "stdout",
     "output_type": "stream",
     "text": [
      "Mean Squared Error (MSE): 51349.125157537055\n",
      "R-squared (R2) score: 0.3077658276679899\n"
     ]
    }
   ],
   "source": [
    "# Calculate the Mean Squared Error (MSE)\n",
    "mse = mean_squared_error(y_test, y_predicted)\n",
    "\n",
    "# Calculate the R-squared (R2) score\n",
    "r2 = r2_score(y_test, y_predicted)\n",
    "\n",
    "# Display the results\n",
    "print('Mean Squared Error (MSE):', mse)\n",
    "print('R-squared (R2) score:', r2)\n"
   ]
  },
  {
   "cell_type": "code",
   "execution_count": 23,
   "id": "20fdc63f",
   "metadata": {},
   "outputs": [
    {
     "data": {
      "text/html": [
       "<div>\n",
       "<style scoped>\n",
       "    .dataframe tbody tr th:only-of-type {\n",
       "        vertical-align: middle;\n",
       "    }\n",
       "\n",
       "    .dataframe tbody tr th {\n",
       "        vertical-align: top;\n",
       "    }\n",
       "\n",
       "    .dataframe thead th {\n",
       "        text-align: right;\n",
       "    }\n",
       "</style>\n",
       "<table border=\"1\" class=\"dataframe\">\n",
       "  <thead>\n",
       "    <tr style=\"text-align: right;\">\n",
       "      <th></th>\n",
       "      <th>Actual</th>\n",
       "      <th>Predicted</th>\n",
       "    </tr>\n",
       "  </thead>\n",
       "  <tbody>\n",
       "    <tr>\n",
       "      <th>0</th>\n",
       "      <td>11.6800</td>\n",
       "      <td>-1.756630</td>\n",
       "    </tr>\n",
       "    <tr>\n",
       "      <th>1</th>\n",
       "      <td>9.7438</td>\n",
       "      <td>-1.854326</td>\n",
       "    </tr>\n",
       "    <tr>\n",
       "      <th>2</th>\n",
       "      <td>2.6406</td>\n",
       "      <td>-0.103057</td>\n",
       "    </tr>\n",
       "    <tr>\n",
       "      <th>3</th>\n",
       "      <td>17.7450</td>\n",
       "      <td>34.608581</td>\n",
       "    </tr>\n",
       "    <tr>\n",
       "      <th>4</th>\n",
       "      <td>6.4428</td>\n",
       "      <td>-2.250134</td>\n",
       "    </tr>\n",
       "    <tr>\n",
       "      <th>5</th>\n",
       "      <td>12.9740</td>\n",
       "      <td>0.554576</td>\n",
       "    </tr>\n",
       "    <tr>\n",
       "      <th>6</th>\n",
       "      <td>25.6800</td>\n",
       "      <td>4.540570</td>\n",
       "    </tr>\n",
       "    <tr>\n",
       "      <th>7</th>\n",
       "      <td>286.3836</td>\n",
       "      <td>217.034764</td>\n",
       "    </tr>\n",
       "    <tr>\n",
       "      <th>8</th>\n",
       "      <td>-52.8908</td>\n",
       "      <td>16.807380</td>\n",
       "    </tr>\n",
       "    <tr>\n",
       "      <th>9</th>\n",
       "      <td>909.9818</td>\n",
       "      <td>483.452915</td>\n",
       "    </tr>\n",
       "    <tr>\n",
       "      <th>10</th>\n",
       "      <td>2400.9657</td>\n",
       "      <td>678.844742</td>\n",
       "    </tr>\n",
       "    <tr>\n",
       "      <th>11</th>\n",
       "      <td>116.3904</td>\n",
       "      <td>28.824982</td>\n",
       "    </tr>\n",
       "    <tr>\n",
       "      <th>12</th>\n",
       "      <td>35.9820</td>\n",
       "      <td>6.142783</td>\n",
       "    </tr>\n",
       "    <tr>\n",
       "      <th>13</th>\n",
       "      <td>-40.7976</td>\n",
       "      <td>2.100545</td>\n",
       "    </tr>\n",
       "    <tr>\n",
       "      <th>14</th>\n",
       "      <td>21.5060</td>\n",
       "      <td>9.990606</td>\n",
       "    </tr>\n",
       "    <tr>\n",
       "      <th>15</th>\n",
       "      <td>-10.1736</td>\n",
       "      <td>-1.861583</td>\n",
       "    </tr>\n",
       "    <tr>\n",
       "      <th>16</th>\n",
       "      <td>33.6420</td>\n",
       "      <td>11.751924</td>\n",
       "    </tr>\n",
       "    <tr>\n",
       "      <th>17</th>\n",
       "      <td>38.0250</td>\n",
       "      <td>11.965459</td>\n",
       "    </tr>\n",
       "    <tr>\n",
       "      <th>18</th>\n",
       "      <td>3.7208</td>\n",
       "      <td>7.965509</td>\n",
       "    </tr>\n",
       "    <tr>\n",
       "      <th>19</th>\n",
       "      <td>6.2244</td>\n",
       "      <td>2.705003</td>\n",
       "    </tr>\n",
       "    <tr>\n",
       "      <th>20</th>\n",
       "      <td>29.1424</td>\n",
       "      <td>41.466275</td>\n",
       "    </tr>\n",
       "    <tr>\n",
       "      <th>21</th>\n",
       "      <td>2.4402</td>\n",
       "      <td>-4.321845</td>\n",
       "    </tr>\n",
       "    <tr>\n",
       "      <th>22</th>\n",
       "      <td>101.3940</td>\n",
       "      <td>42.153496</td>\n",
       "    </tr>\n",
       "    <tr>\n",
       "      <th>23</th>\n",
       "      <td>-32.3673</td>\n",
       "      <td>115.446087</td>\n",
       "    </tr>\n",
       "    <tr>\n",
       "      <th>24</th>\n",
       "      <td>-1.4352</td>\n",
       "      <td>-4.755615</td>\n",
       "    </tr>\n",
       "    <tr>\n",
       "      <th>25</th>\n",
       "      <td>-10.3936</td>\n",
       "      <td>2.236063</td>\n",
       "    </tr>\n",
       "    <tr>\n",
       "      <th>26</th>\n",
       "      <td>20.8780</td>\n",
       "      <td>6.190235</td>\n",
       "    </tr>\n",
       "    <tr>\n",
       "      <th>27</th>\n",
       "      <td>17.3376</td>\n",
       "      <td>1.896639</td>\n",
       "    </tr>\n",
       "    <tr>\n",
       "      <th>28</th>\n",
       "      <td>9.8160</td>\n",
       "      <td>8.682876</td>\n",
       "    </tr>\n",
       "    <tr>\n",
       "      <th>29</th>\n",
       "      <td>40.1702</td>\n",
       "      <td>6.424705</td>\n",
       "    </tr>\n",
       "  </tbody>\n",
       "</table>\n",
       "</div>"
      ],
      "text/plain": [
       "       Actual   Predicted\n",
       "0     11.6800   -1.756630\n",
       "1      9.7438   -1.854326\n",
       "2      2.6406   -0.103057\n",
       "3     17.7450   34.608581\n",
       "4      6.4428   -2.250134\n",
       "5     12.9740    0.554576\n",
       "6     25.6800    4.540570\n",
       "7    286.3836  217.034764\n",
       "8    -52.8908   16.807380\n",
       "9    909.9818  483.452915\n",
       "10  2400.9657  678.844742\n",
       "11   116.3904   28.824982\n",
       "12    35.9820    6.142783\n",
       "13   -40.7976    2.100545\n",
       "14    21.5060    9.990606\n",
       "15   -10.1736   -1.861583\n",
       "16    33.6420   11.751924\n",
       "17    38.0250   11.965459\n",
       "18     3.7208    7.965509\n",
       "19     6.2244    2.705003\n",
       "20    29.1424   41.466275\n",
       "21     2.4402   -4.321845\n",
       "22   101.3940   42.153496\n",
       "23   -32.3673  115.446087\n",
       "24    -1.4352   -4.755615\n",
       "25   -10.3936    2.236063\n",
       "26    20.8780    6.190235\n",
       "27    17.3376    1.896639\n",
       "28     9.8160    8.682876\n",
       "29    40.1702    6.424705"
      ]
     },
     "execution_count": 23,
     "metadata": {},
     "output_type": "execute_result"
    }
   ],
   "source": [
    "# Create a dataframe to compare the actual y values with the predicted y values\n",
    "comparison_df = pd.DataFrame({'Actual': y_test.flatten(), 'Predicted': y_predicted.flatten()})\n",
    "\n",
    "# Display the first few rows of the dataframe to compare the values\n",
    "comparison_df.head(30)"
   ]
  },
  {
   "cell_type": "markdown",
   "id": "09781c6b",
   "metadata": {},
   "source": [
    "### Reflections on Possible Data Bias\n",
    "\n",
    "The performance of the model might be influenced by several factors, including:\n",
    "\n",
    "Data Distribution: If the dataset is not well-balanced (e.g., having more data points with low sales/profit and fewer with high sales/profit), the model may be biased towards predicting values that are closer to the majority class.\n",
    "\n",
    "Outliers: Extreme values in sales or profit might skew the model's predictions, leading to less accurate results for typical data points.\n",
    "\n",
    "Feature Relationships: The model assumes a linear relationship between sales and profit, which might not hold true if other underlying factors affect profit (e.g., discounts, operating costs, market conditions). This simplification can lead to biased or inaccurate predictions.\n",
    "\n",
    "\n",
    "Overall, while the model captures some aspects of the relationship between sales and profit, its performance suggests that the relationship might be more complex than a simple linear regression can capture. Further exploration with more sophisticated models or additional features might be necessary to improve predictive accuracy."
   ]
  },
  {
   "cell_type": "markdown",
   "id": "a6f9a051",
   "metadata": {},
   "source": [
    "## Bonus: performance improvement after removing outliers"
   ]
  },
  {
   "cell_type": "code",
   "execution_count": 24,
   "id": "6b492f64",
   "metadata": {},
   "outputs": [
    {
     "name": "stdout",
     "output_type": "stream",
     "text": [
      "Original dataset shape: (9994, 19)\n",
      "Dataset shape after removing outliers: (8113, 19)\n"
     ]
    }
   ],
   "source": [
    "# Calculate the IQR for Profit\n",
    "Q1 = df['Profit'].quantile(0.25)\n",
    "Q3 = df['Profit'].quantile(0.75)\n",
    "IQR = Q3 - Q1\n",
    "\n",
    "# Define the lower and upper bound\n",
    "lower_bound = Q1 - 1.5 * IQR\n",
    "upper_bound = Q3 + 1.5 * IQR\n",
    "\n",
    "# Remove outliers\n",
    "df_no_outliers = df[(df['Profit'] >= lower_bound) & (df['Profit'] <= upper_bound)]\n",
    "\n",
    "# Display the new shape of the dataset without outliers\n",
    "print(\"Original dataset shape:\", df.shape)\n",
    "print(\"Dataset shape after removing outliers:\", df_no_outliers.shape)\n"
   ]
  },
  {
   "cell_type": "code",
   "execution_count": 25,
   "id": "d71702ae",
   "metadata": {},
   "outputs": [],
   "source": [
    "# Reshape the variables into NumPy arrays\n",
    "X_no_outliers = df_no_outliers['Sales'].values.reshape(-1, 1)\n",
    "y_no_outliers = df_no_outliers['Profit'].values.reshape(-1, 1)\n"
   ]
  },
  {
   "cell_type": "code",
   "execution_count": 26,
   "id": "ad9d539a",
   "metadata": {},
   "outputs": [],
   "source": [
    "# Split the data into a training set and a test set\n",
    "X_train_no_outliers, X_test_no_outliers, y_train_no_outliers, y_test_no_outliers = train_test_split(X_no_outliers, y_no_outliers, test_size=0.3, random_state=0)\n"
   ]
  },
  {
   "cell_type": "code",
   "execution_count": 27,
   "id": "bdead3ba",
   "metadata": {},
   "outputs": [],
   "source": [
    "# Create the linear regression model\n",
    "regression_no_outliers = LinearRegression()\n",
    "\n",
    "# Fit the model to the training data\n",
    "regression_no_outliers.fit(X_train_no_outliers, y_train_no_outliers)\n",
    "\n",
    "# Predict the values of y using the test set\n",
    "y_predicted_no_outliers = regression_no_outliers.predict(X_test_no_outliers)\n"
   ]
  },
  {
   "cell_type": "code",
   "execution_count": 28,
   "id": "a248a483",
   "metadata": {},
   "outputs": [
    {
     "name": "stdout",
     "output_type": "stream",
     "text": [
      "Mean Squared Error (MSE) without outliers: 321.3348998153415\n",
      "R-squared (R2) score without outliers: 0.07816575798353464\n"
     ]
    }
   ],
   "source": [
    "# Calculate the Mean Squared Error (MSE)\n",
    "mse_no_outliers = mean_squared_error(y_test_no_outliers, y_predicted_no_outliers)\n",
    "\n",
    "# Calculate the R-squared (R2) score\n",
    "r2_no_outliers = r2_score(y_test_no_outliers, y_predicted_no_outliers)\n",
    "\n",
    "# Display the results\n",
    "print('Mean Squared Error (MSE) without outliers:', mse_no_outliers)\n",
    "print('R-squared (R2) score without outliers:', r2_no_outliers)\n"
   ]
  },
  {
   "cell_type": "code",
   "execution_count": 31,
   "id": "88a54adb",
   "metadata": {},
   "outputs": [
    {
     "data": {
      "image/png": "[encoded data removed]",
      "text/plain": [
       "<Figure size 640x480 with 1 Axes>"
      ]
     },
     "metadata": {},
     "output_type": "display_data"
    }
   ],
   "source": [
    "import matplotlib.pyplot as plt\n",
    "\n",
    "# Create a scatter plot of the test data without outliers\n",
    "plt.scatter(X_test_no_outliers, y_test_no_outliers, color='gray', s=15, label='Actual')\n",
    "\n",
    "# Plot the regression line based on the predictions\n",
    "plt.plot(X_test_no_outliers, y_predicted_no_outliers, color='red', linewidth=2, label='Regression Line')\n",
    "\n",
    "# Add titles and labels\n",
    "plt.title('Sales vs Profit (Test Set) without Outliers')\n",
    "plt.xlabel('Sales')\n",
    "plt.ylabel('Profit')\n",
    "\n",
    "\n",
    "# Display the plot\n",
    "plt.show()\n"
   ]
  },
  {
   "cell_type": "code",
   "execution_count": 33,
   "id": "293c0734",
   "metadata": {},
   "outputs": [
    {
     "data": {
      "text/html": [
       "<div>\n",
       "<style scoped>\n",
       "    .dataframe tbody tr th:only-of-type {\n",
       "        vertical-align: middle;\n",
       "    }\n",
       "\n",
       "    .dataframe tbody tr th {\n",
       "        vertical-align: top;\n",
       "    }\n",
       "\n",
       "    .dataframe thead th {\n",
       "        text-align: right;\n",
       "    }\n",
       "</style>\n",
       "<table border=\"1\" class=\"dataframe\">\n",
       "  <thead>\n",
       "    <tr style=\"text-align: right;\">\n",
       "      <th></th>\n",
       "      <th>Actual</th>\n",
       "      <th>Predicted</th>\n",
       "    </tr>\n",
       "  </thead>\n",
       "  <tbody>\n",
       "    <tr>\n",
       "      <th>0</th>\n",
       "      <td>-0.9900</td>\n",
       "      <td>7.824844</td>\n",
       "    </tr>\n",
       "    <tr>\n",
       "      <th>1</th>\n",
       "      <td>0.6312</td>\n",
       "      <td>8.436735</td>\n",
       "    </tr>\n",
       "    <tr>\n",
       "      <th>2</th>\n",
       "      <td>3.9852</td>\n",
       "      <td>8.270176</td>\n",
       "    </tr>\n",
       "    <tr>\n",
       "      <th>3</th>\n",
       "      <td>3.9102</td>\n",
       "      <td>8.109655</td>\n",
       "    </tr>\n",
       "    <tr>\n",
       "      <th>4</th>\n",
       "      <td>22.2980</td>\n",
       "      <td>15.255269</td>\n",
       "    </tr>\n",
       "    <tr>\n",
       "      <th>5</th>\n",
       "      <td>-33.1390</td>\n",
       "      <td>8.671562</td>\n",
       "    </tr>\n",
       "    <tr>\n",
       "      <th>6</th>\n",
       "      <td>35.0400</td>\n",
       "      <td>10.713717</td>\n",
       "    </tr>\n",
       "    <tr>\n",
       "      <th>7</th>\n",
       "      <td>3.4048</td>\n",
       "      <td>8.590882</td>\n",
       "    </tr>\n",
       "    <tr>\n",
       "      <th>8</th>\n",
       "      <td>9.4700</td>\n",
       "      <td>8.569245</td>\n",
       "    </tr>\n",
       "    <tr>\n",
       "      <th>9</th>\n",
       "      <td>32.1300</td>\n",
       "      <td>14.115352</td>\n",
       "    </tr>\n",
       "  </tbody>\n",
       "</table>\n",
       "</div>"
      ],
      "text/plain": [
       "    Actual  Predicted\n",
       "0  -0.9900   7.824844\n",
       "1   0.6312   8.436735\n",
       "2   3.9852   8.270176\n",
       "3   3.9102   8.109655\n",
       "4  22.2980  15.255269\n",
       "5 -33.1390   8.671562\n",
       "6  35.0400  10.713717\n",
       "7   3.4048   8.590882\n",
       "8   9.4700   8.569245\n",
       "9  32.1300  14.115352"
      ]
     },
     "execution_count": 33,
     "metadata": {},
     "output_type": "execute_result"
    }
   ],
   "source": [
    "# Create a dataframe to compare the actual y values with the predicted y values after removing outliers\n",
    "comparison_df_no_outliers = pd.DataFrame({'Actual': y_test_no_outliers.flatten(), 'Predicted': y_predicted_no_outliers.flatten()})\n",
    "\n",
    "# Display the first few rows of the dataframe to compare the values\n",
    "comparison_df_no_outliers.head(10)"
   ]
  },
  {
   "cell_type": "markdown",
   "id": "78c528c8",
   "metadata": {},
   "source": [
    "### Thoughts on Model Performance After Removing Outliers\n",
    "\n",
    "After removing outliers, the model's performance on the test set seems to have changed significantly. The predicted values are now more concentrated around a certain range, and the overall variance in predictions is much lower than in the original model with outliers.\n",
    "\n",
    "Key observations:\n",
    "\n",
    "Narrowed Predictions: The predicted Profit values are much closer to each other, indicating that the model has lost some of its ability to predict extreme profit values. This is likely because those extreme values were removed during the outlier filtering process.\n",
    "\n",
    "Reduced Range: The maximum predicted Profit is much lower than before, and the predictions are more centered around a middle range. This suggests that the model may now be less capable of handling the diversity of the original dataset, particularly those transactions that resulted in very high or very low profits."
   ]
  },
  {
   "cell_type": "code",
   "execution_count": null,
   "id": "7bdec29b",
   "metadata": {},
   "outputs": [],
   "source": []
  }
 ],
 "metadata": {
  "kernelspec": {
   "display_name": "Python 3 (ipykernel)",
   "language": "python",
   "name": "python3"
  },
  "language_info": {
   "codemirror_mode": {
    "name": "ipython",
    "version": 3
   },
   "file_extension": ".py",
   "mimetype": "text/x-python",
   "name": "python",
   "nbconvert_exporter": "python",
   "pygments_lexer": "ipython3",
   "version": "3.11.5"
  }
 },
 "nbformat": 4,
 "nbformat_minor": 5
}
